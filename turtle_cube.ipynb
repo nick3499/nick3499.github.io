{
 "cells": [
  {
   "cell_type": "code",
   "execution_count": 1,
   "metadata": {
    "collapsed": true
   },
   "outputs": [],
   "source": [
    "#!/root/anaconda3/bin/python3\n",
    "# -*- coding: utf-8 -*-\n",
    "'''\n",
    "FileName: turtle_cube.py\n",
    "Author: nick3499\n",
    "Created: Sat Jan 21 2017\n",
    "Python Version: 3.5\n",
    "'''\n",
    "\n",
    "import turtle\n",
    "\n",
    "t = turtle.Turtle()\n",
    "\n",
    "t.screen.setup (width=1500, height=7500, startx=0, starty=0)\n",
    "t.screen.bgcolor(\"orange\")\n",
    "t.rt(30)   # turtle.right(30) degrees rotation\n",
    "t.fd(200)  # turtle.forward(200) pixel distance\n",
    "t.lt(60)\n",
    "t.fd(200)\n",
    "t.lt(60)\n",
    "t.fd(200)\n",
    "t.lt(120)\n",
    "t.fd(200)\n",
    "t.rt(60)\n",
    "t.fd(200)\n",
    "t.lt(120)\n",
    "t.fd(200)\n",
    "t.pu()         # pen up\n",
    "t.goto(0,200)  # goto x = 0, y = 200\n",
    "t.lt(120) \n",
    "t.pd()         # pen down\n",
    "t.fd(200)\n",
    "t.rt(60)\n",
    "t.fd(200)\n",
    "t.pu()\n",
    "t.goto(0,0)\n",
    "t.fd(200)\n",
    "t.pd()\n",
    "t.lt(120)\n",
    "t.fd(200)\n"
   ]
  }
 ],
 "metadata": {
  "kernelspec": {
   "display_name": "Python [default]",
   "language": "python",
   "name": "python3"
  },
  "language_info": {
   "codemirror_mode": {
    "name": "ipython",
    "version": 3
   },
   "file_extension": ".py",
   "mimetype": "text/x-python",
   "name": "python",
   "nbconvert_exporter": "python",
   "pygments_lexer": "ipython3",
   "version": "3.5.2"
  }
 },
 "nbformat": 4,
 "nbformat_minor": 2
}
